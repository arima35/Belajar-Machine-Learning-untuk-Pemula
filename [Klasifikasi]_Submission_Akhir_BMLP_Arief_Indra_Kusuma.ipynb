{
  "nbformat": 4,
  "nbformat_minor": 0,
  "metadata": {
    "colab": {
      "provenance": [],
      "include_colab_link": true
    },
    "kernelspec": {
      "name": "python3",
      "display_name": "Python 3"
    },
    "language_info": {
      "name": "python"
    }
  },
  "cells": [
    {
      "cell_type": "markdown",
      "metadata": {
        "id": "view-in-github",
        "colab_type": "text"
      },
      "source": [
        "<a href=\"https://colab.research.google.com/github/arima35/Belajar-Machine-Learning-untuk-Pemula/blob/main/%5BKlasifikasi%5D_Submission_Akhir_BMLP_Arief_Indra_Kusuma.ipynb\" target=\"_parent\"><img src=\"https://colab.research.google.com/assets/colab-badge.svg\" alt=\"Open In Colab\"/></a>"
      ]
    },
    {
      "cell_type": "markdown",
      "source": [
        "# **1. Import Library**"
      ],
      "metadata": {
        "id": "fKADPWcFKlj3"
      }
    },
    {
      "cell_type": "markdown",
      "source": [
        "Pada tahap ini, Anda perlu mengimpor beberapa pustaka (library) Python yang dibutuhkan untuk analisis data dan pembangunan model machine learning."
      ],
      "metadata": {
        "id": "LgA3ERnVn84N"
      }
    },
    {
      "cell_type": "code",
      "source": [
        "#Type your code here\n",
        "# Data Handling\n",
        "import pandas as pd\n",
        "import numpy as np\n",
        "\n",
        "# Visualization\n",
        "import matplotlib.pyplot as plt\n",
        "import seaborn as sns\n",
        "\n",
        "# Machine Learning\n",
        "from sklearn.model_selection import train_test_split\n",
        "from sklearn.ensemble import RandomForestClassifier\n",
        "from sklearn.metrics import accuracy_score, f1_score, classification_report, confusion_matrix\n",
        "from sklearn.model_selection import GridSearchCV\n",
        "\n",
        "# Disable warnings\n",
        "import warnings\n",
        "warnings.filterwarnings(\"ignore\")"
      ],
      "metadata": {
        "id": "BlmvjLY9M4Yj"
      },
      "execution_count": 9,
      "outputs": []
    },
    {
      "cell_type": "markdown",
      "source": [
        "# **2. Memuat Dataset dari Hasil Clustering**"
      ],
      "metadata": {
        "id": "f3YIEnAFKrKL"
      }
    },
    {
      "cell_type": "markdown",
      "source": [
        "Memuat dataset hasil clustering dari file CSV ke dalam variabel DataFrame."
      ],
      "metadata": {
        "id": "Ey3ItwTen_7E"
      }
    },
    {
      "cell_type": "code",
      "source": [
        "#Type your code here\n",
        "# Load dataset dari file CSV\n",
        "file_path = 'https://raw.githubusercontent.com/arima35/Belajar-Machine-Learning-untuk-Pemula/main/hasil_clustering.csv'\n",
        "df = pd.read_csv(file_path)\n",
        "\n",
        "# Cek beberapa baris pertama\n",
        "print(df.head())"
      ],
      "metadata": {
        "id": "GHCGNTyrM5fS",
        "colab": {
          "base_uri": "https://localhost:8080/"
        },
        "outputId": "0948f043-30b9-4a5a-a3c6-5cb7b21fc3d4"
      },
      "execution_count": 10,
      "outputs": [
        {
          "output_type": "stream",
          "name": "stdout",
          "text": [
            "   Age  Sex  ChestPainType  RestingBP  Cholesterol  FastingBS  RestingECG  \\\n",
            "0   40    1              1        140          289          0           1   \n",
            "1   49    0              2        160          180          0           1   \n",
            "2   37    1              1        130          283          0           2   \n",
            "3   48    0              0        138          214          0           1   \n",
            "4   54    1              2        150          195          0           1   \n",
            "\n",
            "   MaxHR  ExerciseAngina  Oldpeak  ST_Slope  HeartDisease  Cluster  \n",
            "0    172               0      0.0         2             0        1  \n",
            "1    156               0      1.0         1             1        1  \n",
            "2     98               0      0.0         2             0        1  \n",
            "3    108               1      1.5         1             1        1  \n",
            "4    122               0      0.0         2             0        1  \n"
          ]
        }
      ]
    },
    {
      "cell_type": "markdown",
      "source": [
        "# **3. Data Splitting**"
      ],
      "metadata": {
        "id": "KkPem5eWL2UP"
      }
    },
    {
      "cell_type": "markdown",
      "source": [
        "Tahap Data Splitting bertujuan untuk memisahkan dataset menjadi dua bagian: data latih (training set) dan data uji (test set)."
      ],
      "metadata": {
        "id": "YYj1rl_JNI9Y"
      }
    },
    {
      "cell_type": "code",
      "source": [
        "#Type your code here\n",
        "# Pisahkan fitur (X) dan label (y)\n",
        "X = df.drop('Cluster', axis=1)  # 'Cluster' sebagai label\n",
        "y = df['Cluster']\n",
        "\n",
        "# Bagi dataset menjadi training set dan testing set\n",
        "X_train, X_test, y_train, y_test = train_test_split(X, y, test_size=0.2, random_state=42, stratify=y)\n",
        "\n",
        "print(f\"Jumlah data latih: {len(X_train)}, Jumlah data uji: {len(X_test)}\")"
      ],
      "metadata": {
        "id": "OubAW-7ONKVj",
        "colab": {
          "base_uri": "https://localhost:8080/"
        },
        "outputId": "88808f21-b03b-4473-b674-7c6bf8de1d2f"
      },
      "execution_count": 11,
      "outputs": [
        {
          "output_type": "stream",
          "name": "stdout",
          "text": [
            "Jumlah data latih: 734, Jumlah data uji: 184\n"
          ]
        }
      ]
    },
    {
      "cell_type": "markdown",
      "source": [
        "# **4. Membangun Model Klasifikasi**\n"
      ],
      "metadata": {
        "id": "IVPbB03CMhTT"
      }
    },
    {
      "cell_type": "markdown",
      "source": [
        "## **a. Membangun Model Klasifikasi**"
      ],
      "metadata": {
        "id": "Ned1pL9zMmBK"
      }
    },
    {
      "cell_type": "markdown",
      "source": [
        "Setelah memilih algoritma klasifikasi yang sesuai, langkah selanjutnya adalah melatih model menggunakan data latih.\n",
        "\n",
        "Berikut adalah rekomendasi tahapannya.\n",
        "1. Pilih algoritma klasifikasi yang sesuai, seperti Logistic Regression, Decision Tree, Random Forest, atau K-Nearest Neighbors (KNN).\n",
        "2. Latih model menggunakan data latih."
      ],
      "metadata": {
        "id": "WAWzPOE4Nkti"
      }
    },
    {
      "cell_type": "code",
      "source": [
        "# Cek tipe data di dataset\n",
        "print(df.dtypes)\n",
        "\n",
        "# Identifikasi kolom kategori\n",
        "kategori_kolom = df.select_dtypes(include=['object']).columns\n",
        "print(\"Kolom kategori:\", kategori_kolom)"
      ],
      "metadata": {
        "colab": {
          "base_uri": "https://localhost:8080/"
        },
        "id": "kirVuLX3IkEV",
        "outputId": "ba348bf4-1fd3-4348-e0f5-97fcfd9b60c2"
      },
      "execution_count": 12,
      "outputs": [
        {
          "output_type": "stream",
          "name": "stdout",
          "text": [
            "Age                 int64\n",
            "Sex                 int64\n",
            "ChestPainType       int64\n",
            "RestingBP           int64\n",
            "Cholesterol         int64\n",
            "FastingBS           int64\n",
            "RestingECG          int64\n",
            "MaxHR               int64\n",
            "ExerciseAngina      int64\n",
            "Oldpeak           float64\n",
            "ST_Slope            int64\n",
            "HeartDisease        int64\n",
            "Cluster             int64\n",
            "dtype: object\n",
            "Kolom kategori: Index([], dtype='object')\n"
          ]
        }
      ]
    },
    {
      "cell_type": "code",
      "source": [
        "from sklearn.preprocessing import LabelEncoder\n",
        "\n",
        "# Ubah kolom kategori ke numerik dengan Label Encoding\n",
        "label_encoders = {}\n",
        "for kolom in kategori_kolom:\n",
        "    le = LabelEncoder()\n",
        "    df[kolom] = le.fit_transform(df[kolom])\n",
        "    label_encoders[kolom] = le  # Simpan encoder jika ingin inverse transform di masa depan\n",
        "\n",
        "# Cek dataset setelah transformasi\n",
        "print(df.head())"
      ],
      "metadata": {
        "colab": {
          "base_uri": "https://localhost:8080/"
        },
        "id": "Pkj6unuBIrhC",
        "outputId": "14be2dce-7be0-457d-e99f-7e44bf65ad69"
      },
      "execution_count": 13,
      "outputs": [
        {
          "output_type": "stream",
          "name": "stdout",
          "text": [
            "   Age  Sex  ChestPainType  RestingBP  Cholesterol  FastingBS  RestingECG  \\\n",
            "0   40    1              1        140          289          0           1   \n",
            "1   49    0              2        160          180          0           1   \n",
            "2   37    1              1        130          283          0           2   \n",
            "3   48    0              0        138          214          0           1   \n",
            "4   54    1              2        150          195          0           1   \n",
            "\n",
            "   MaxHR  ExerciseAngina  Oldpeak  ST_Slope  HeartDisease  Cluster  \n",
            "0    172               0      0.0         2             0        1  \n",
            "1    156               0      1.0         1             1        1  \n",
            "2     98               0      0.0         2             0        1  \n",
            "3    108               1      1.5         1             1        1  \n",
            "4    122               0      0.0         2             0        1  \n"
          ]
        }
      ]
    },
    {
      "cell_type": "code",
      "source": [
        "# Pisahkan fitur (X) dan label (y)\n",
        "X = df.drop('Cluster', axis=1)  # 'Cluster' sebagai label\n",
        "y = df['Cluster']\n",
        "\n",
        "# Bagi dataset menjadi training set dan testing set\n",
        "X_train, X_test, y_train, y_test = train_test_split(X, y, test_size=0.2, random_state=42, stratify=y)\n",
        "\n",
        "# Bangun model Random Forest\n",
        "model_rf = RandomForestClassifier(random_state=42)\n",
        "model_rf.fit(X_train, y_train)\n",
        "\n",
        "# Prediksi pada data uji\n",
        "y_pred_train = model_rf.predict(X_train)\n",
        "y_pred_test = model_rf.predict(X_test)"
      ],
      "metadata": {
        "id": "4JYxBe87NLDk"
      },
      "execution_count": 14,
      "outputs": []
    },
    {
      "cell_type": "markdown",
      "source": [
        "Tulis narasi atau penjelasan algoritma yang Anda gunakan."
      ],
      "metadata": {
        "id": "seYoHNY3XU1y"
      }
    },
    {
      "cell_type": "markdown",
      "source": [
        "algoritma yang digunakan pada model klasifikasi adalah random forest. algoritma ini bekerja dengan membangun beberapa algoritma dari decision tree atau bisa dikatakan menjadi lebih efektif kalau dari sudut pandangku. dimana setiap algoritma akan melakukan prediksi, lalu hasil prediksi dari semuanya akan digabungkan untuk prediksi akhir."
      ],
      "metadata": {
        "id": "oMt372sRKYNu"
      }
    },
    {
      "cell_type": "markdown",
      "source": [
        "## **b. Evaluasi Model Klasifikasi**"
      ],
      "metadata": {
        "id": "ergzChZFEL-O"
      }
    },
    {
      "cell_type": "markdown",
      "source": [
        "Berikut adalah **rekomendasi** tahapannya.\n",
        "1. Lakukan prediksi menggunakan data uji.\n",
        "2. Hitung metrik evaluasi seperti Accuracy dan F1-Score (Opsional: Precision dan Recall).\n",
        "3. Buat confusion matrix untuk melihat detail prediksi benar dan salah."
      ],
      "metadata": {
        "id": "zOm68u-7NpLT"
      }
    },
    {
      "cell_type": "code",
      "source": [
        "#Type your code here\n",
        "# Evaluasi pada training set\n",
        "acc_train = accuracy_score(y_train, y_pred_train)\n",
        "f1_train = f1_score(y_train, y_pred_train, average='weighted')\n",
        "\n",
        "# Evaluasi pada testing set\n",
        "acc_test = accuracy_score(y_test, y_pred_test)\n",
        "f1_test = f1_score(y_test, y_pred_test, average='weighted')\n",
        "\n",
        "# Cetak hasil\n",
        "print(f\"Training Accuracy: {acc_train:.2f}, Training F1-Score: {f1_train:.2f}\")\n",
        "print(f\"Testing Accuracy: {acc_test:.2f}, Testing F1-Score: {f1_test:.2f}\")\n",
        "\n",
        "# Confusion Matrix\n",
        "cm = confusion_matrix(y_test, y_pred_test)\n",
        "sns.heatmap(cm, annot=True, fmt='d', cmap='Blues', xticklabels=np.unique(y), yticklabels=np.unique(y))\n",
        "plt.title(\"Confusion Matrix\")\n",
        "plt.xlabel(\"Predicted Label\")\n",
        "plt.ylabel(\"True Label\")\n",
        "plt.show()\n"
      ],
      "metadata": {
        "id": "tMq4QAssNLip",
        "colab": {
          "base_uri": "https://localhost:8080/",
          "height": 507
        },
        "outputId": "8c58ca7c-845e-4f67-f943-8db38a722a13"
      },
      "execution_count": 15,
      "outputs": [
        {
          "output_type": "stream",
          "name": "stdout",
          "text": [
            "Training Accuracy: 1.00, Training F1-Score: 1.00\n",
            "Testing Accuracy: 1.00, Testing F1-Score: 1.00\n"
          ]
        },
        {
          "output_type": "display_data",
          "data": {
            "text/plain": [
              "<Figure size 640x480 with 2 Axes>"
            ],
            "image/png": "[encoded data removed]"
          },
          "metadata": {}
        }
      ]
    },
    {
      "cell_type": "markdown",
      "source": [
        "Tulis hasil evaluasi algoritma yang digunakan, jika Anda menggunakan 2 algoritma, maka bandingkan hasilnya."
      ],
      "metadata": {
        "id": "H4_9OwrsXZlz"
      }
    },
    {
      "cell_type": "markdown",
      "source": [
        "Setelah melatih model menggunakan algoritma Random Forest, dapat dievaluasi kinerja model ini menggunakan metrik analisis klasifikasi, yaitu Akurasi dan F1-Score.\n",
        "\n",
        "**Akurasi** menunjukan seberapa banyak prediksi yang benar dibandingkan dengan jumlah total prediksi.\n",
        "\n",
        "**F1-Score** adalah metrik yang menggabungkan metrik Precision dan Recall dalam satu angka. nilai F1-Score yang tinggi menunjukkan bahwa model mampu menjaga keseimbangan dari kedua metrik, yang berarti bahwa model ini memiliki performa yang baik dalam memprediksi dengan sedikit kesalahan, baik di data latih maupun uji."
      ],
      "metadata": {
        "id": "uR4PZax9LWSr"
      }
    },
    {
      "cell_type": "markdown",
      "source": [
        "## **c. Tuning Model Klasifikasi (Optional)**"
      ],
      "metadata": {
        "id": "ph9yIYDXEPuB"
      }
    },
    {
      "cell_type": "markdown",
      "source": [
        "Gunakan GridSearchCV, RandomizedSearchCV, atau metode lainnya untuk mencari kombinasi hyperparameter terbaik"
      ],
      "metadata": {
        "id": "-Bikx3LINv5e"
      }
    },
    {
      "cell_type": "code",
      "source": [
        "#Type your code here\n",
        "# Hyperparameter tuning dengan GridSearchCV\n",
        "param_grid = {\n",
        "    'n_estimators': [50, 100, 150],\n",
        "    'max_depth': [None, 10, 20, 30],\n",
        "    'min_samples_split': [2, 5, 10],\n",
        "    'min_samples_leaf': [1, 2, 4]\n",
        "}\n",
        "\n",
        "grid_search = GridSearchCV(estimator=RandomForestClassifier(random_state=42),\n",
        "                           param_grid=param_grid,\n",
        "                           scoring='f1_weighted',\n",
        "                           cv=3,\n",
        "                           verbose=2)\n",
        "grid_search.fit(X_train, y_train)\n",
        "\n",
        "# Model terbaik\n",
        "best_model = grid_search.best_estimator_\n",
        "\n",
        "# Evaluasi ulang model terbaik\n",
        "y_pred_best = best_model.predict(X_test)\n",
        "acc_best = accuracy_score(y_test, y_pred_best)\n",
        "f1_best = f1_score(y_test, y_pred_best, average='weighted')\n",
        "\n",
        "print(f\"Testing Accuracy setelah tuning: {acc_best:.2f}\")\n",
        "print(f\"Testing F1-Score setelah tuning: {f1_best:.2f}\")\n"
      ],
      "metadata": {
        "id": "winbFzb8NL95",
        "colab": {
          "base_uri": "https://localhost:8080/"
        },
        "outputId": "63e49cf2-90e1-49d9-a2d4-f7096866a113"
      },
      "execution_count": 16,
      "outputs": [
        {
          "output_type": "stream",
          "name": "stdout",
          "text": [
            "Fitting 3 folds for each of 108 candidates, totalling 324 fits\n",
            "[CV] END max_depth=None, min_samples_leaf=1, min_samples_split=2, n_estimators=50; total time=   0.1s\n",
            "[CV] END max_depth=None, min_samples_leaf=1, min_samples_split=2, n_estimators=50; total time=   0.1s\n",
            "[CV] END max_depth=None, min_samples_leaf=1, min_samples_split=2, n_estimators=50; total time=   0.1s\n",
            "[CV] END max_depth=None, min_samples_leaf=1, min_samples_split=2, n_estimators=100; total time=   0.2s\n",
            "[CV] END max_depth=None, min_samples_leaf=1, min_samples_split=2, n_estimators=100; total time=   0.2s\n",
            "[CV] END max_depth=None, min_samples_leaf=1, min_samples_split=2, n_estimators=100; total time=   0.2s\n",
            "[CV] END max_depth=None, min_samples_leaf=1, min_samples_split=2, n_estimators=150; total time=   0.4s\n",
            "[CV] END max_depth=None, min_samples_leaf=1, min_samples_split=2, n_estimators=150; total time=   0.5s\n",
            "[CV] END max_depth=None, min_samples_leaf=1, min_samples_split=2, n_estimators=150; total time=   0.3s\n",
            "[CV] END max_depth=None, min_samples_leaf=1, min_samples_split=5, n_estimators=50; total time=   0.1s\n",
            "[CV] END max_depth=None, min_samples_leaf=1, min_samples_split=5, n_estimators=50; total time=   0.1s\n",
            "[CV] END max_depth=None, min_samples_leaf=1, min_samples_split=5, n_estimators=50; total time=   0.1s\n",
            "[CV] END max_depth=None, min_samples_leaf=1, min_samples_split=5, n_estimators=100; total time=   0.2s\n",
            "[CV] END max_depth=None, min_samples_leaf=1, min_samples_split=5, n_estimators=100; total time=   0.2s\n",
            "[CV] END max_depth=None, min_samples_leaf=1, min_samples_split=5, n_estimators=100; total time=   0.3s\n",
            "[CV] END max_depth=None, min_samples_leaf=1, min_samples_split=5, n_estimators=150; total time=   0.2s\n",
            "[CV] END max_depth=None, min_samples_leaf=1, min_samples_split=5, n_estimators=150; total time=   0.2s\n",
            "[CV] END max_depth=None, min_samples_leaf=1, min_samples_split=5, n_estimators=150; total time=   0.2s\n",
            "[CV] END max_depth=None, min_samples_leaf=1, min_samples_split=10, n_estimators=50; total time=   0.1s\n",
            "[CV] END max_depth=None, min_samples_leaf=1, min_samples_split=10, n_estimators=50; total time=   0.1s\n",
            "[CV] END max_depth=None, min_samples_leaf=1, min_samples_split=10, n_estimators=50; total time=   0.1s\n",
            "[CV] END max_depth=None, min_samples_leaf=1, min_samples_split=10, n_estimators=100; total time=   0.2s\n",
            "[CV] END max_depth=None, min_samples_leaf=1, min_samples_split=10, n_estimators=100; total time=   0.2s\n",
            "[CV] END max_depth=None, min_samples_leaf=1, min_samples_split=10, n_estimators=100; total time=   0.2s\n",
            "[CV] END max_depth=None, min_samples_leaf=1, min_samples_split=10, n_estimators=150; total time=   0.4s\n",
            "[CV] END max_depth=None, min_samples_leaf=1, min_samples_split=10, n_estimators=150; total time=   0.4s\n",
            "[CV] END max_depth=None, min_samples_leaf=1, min_samples_split=10, n_estimators=150; total time=   0.4s\n",
            "[CV] END max_depth=None, min_samples_leaf=2, min_samples_split=2, n_estimators=50; total time=   0.1s\n",
            "[CV] END max_depth=None, min_samples_leaf=2, min_samples_split=2, n_estimators=50; total time=   0.1s\n",
            "[CV] END max_depth=None, min_samples_leaf=2, min_samples_split=2, n_estimators=50; total time=   0.1s\n",
            "[CV] END max_depth=None, min_samples_leaf=2, min_samples_split=2, n_estimators=100; total time=   0.3s\n",
            "[CV] END max_depth=None, min_samples_leaf=2, min_samples_split=2, n_estimators=100; total time=   0.3s\n",
            "[CV] END max_depth=None, min_samples_leaf=2, min_samples_split=2, n_estimators=100; total time=   0.3s\n",
            "[CV] END max_depth=None, min_samples_leaf=2, min_samples_split=2, n_estimators=150; total time=   0.4s\n",
            "[CV] END max_depth=None, min_samples_leaf=2, min_samples_split=2, n_estimators=150; total time=   0.2s\n",
            "[CV] END max_depth=None, min_samples_leaf=2, min_samples_split=2, n_estimators=150; total time=   0.2s\n",
            "[CV] END max_depth=None, min_samples_leaf=2, min_samples_split=5, n_estimators=50; total time=   0.1s\n",
            "[CV] END max_depth=None, min_samples_leaf=2, min_samples_split=5, n_estimators=50; total time=   0.1s\n",
            "[CV] END max_depth=None, min_samples_leaf=2, min_samples_split=5, n_estimators=50; total time=   0.1s\n",
            "[CV] END max_depth=None, min_samples_leaf=2, min_samples_split=5, n_estimators=100; total time=   0.2s\n",
            "[CV] END max_depth=None, min_samples_leaf=2, min_samples_split=5, n_estimators=100; total time=   0.2s\n",
            "[CV] END max_depth=None, min_samples_leaf=2, min_samples_split=5, n_estimators=100; total time=   0.2s\n",
            "[CV] END max_depth=None, min_samples_leaf=2, min_samples_split=5, n_estimators=150; total time=   0.2s\n",
            "[CV] END max_depth=None, min_samples_leaf=2, min_samples_split=5, n_estimators=150; total time=   0.2s\n",
            "[CV] END max_depth=None, min_samples_leaf=2, min_samples_split=5, n_estimators=150; total time=   0.3s\n",
            "[CV] END max_depth=None, min_samples_leaf=2, min_samples_split=10, n_estimators=50; total time=   0.1s\n",
            "[CV] END max_depth=None, min_samples_leaf=2, min_samples_split=10, n_estimators=50; total time=   0.1s\n",
            "[CV] END max_depth=None, min_samples_leaf=2, min_samples_split=10, n_estimators=50; total time=   0.1s\n",
            "[CV] END max_depth=None, min_samples_leaf=2, min_samples_split=10, n_estimators=100; total time=   0.2s\n",
            "[CV] END max_depth=None, min_samples_leaf=2, min_samples_split=10, n_estimators=100; total time=   0.2s\n",
            "[CV] END max_depth=None, min_samples_leaf=2, min_samples_split=10, n_estimators=100; total time=   0.2s\n",
            "[CV] END max_depth=None, min_samples_leaf=2, min_samples_split=10, n_estimators=150; total time=   0.2s\n",
            "[CV] END max_depth=None, min_samples_leaf=2, min_samples_split=10, n_estimators=150; total time=   0.2s\n",
            "[CV] END max_depth=None, min_samples_leaf=2, min_samples_split=10, n_estimators=150; total time=   0.3s\n",
            "[CV] END max_depth=None, min_samples_leaf=4, min_samples_split=2, n_estimators=50; total time=   0.1s\n",
            "[CV] END max_depth=None, min_samples_leaf=4, min_samples_split=2, n_estimators=50; total time=   0.1s\n",
            "[CV] END max_depth=None, min_samples_leaf=4, min_samples_split=2, n_estimators=50; total time=   0.1s\n",
            "[CV] END max_depth=None, min_samples_leaf=4, min_samples_split=2, n_estimators=100; total time=   0.2s\n",
            "[CV] END max_depth=None, min_samples_leaf=4, min_samples_split=2, n_estimators=100; total time=   0.2s\n",
            "[CV] END max_depth=None, min_samples_leaf=4, min_samples_split=2, n_estimators=100; total time=   0.2s\n",
            "[CV] END max_depth=None, min_samples_leaf=4, min_samples_split=2, n_estimators=150; total time=   0.2s\n",
            "[CV] END max_depth=None, min_samples_leaf=4, min_samples_split=2, n_estimators=150; total time=   0.2s\n",
            "[CV] END max_depth=None, min_samples_leaf=4, min_samples_split=2, n_estimators=150; total time=   0.3s\n",
            "[CV] END max_depth=None, min_samples_leaf=4, min_samples_split=5, n_estimators=50; total time=   0.1s\n",
            "[CV] END max_depth=None, min_samples_leaf=4, min_samples_split=5, n_estimators=50; total time=   0.1s\n",
            "[CV] END max_depth=None, min_samples_leaf=4, min_samples_split=5, n_estimators=50; total time=   0.1s\n",
            "[CV] END max_depth=None, min_samples_leaf=4, min_samples_split=5, n_estimators=100; total time=   0.3s\n",
            "[CV] END max_depth=None, min_samples_leaf=4, min_samples_split=5, n_estimators=100; total time=   0.3s\n",
            "[CV] END max_depth=None, min_samples_leaf=4, min_samples_split=5, n_estimators=100; total time=   0.3s\n",
            "[CV] END max_depth=None, min_samples_leaf=4, min_samples_split=5, n_estimators=150; total time=   0.3s\n",
            "[CV] END max_depth=None, min_samples_leaf=4, min_samples_split=5, n_estimators=150; total time=   0.2s\n",
            "[CV] END max_depth=None, min_samples_leaf=4, min_samples_split=5, n_estimators=150; total time=   0.2s\n",
            "[CV] END max_depth=None, min_samples_leaf=4, min_samples_split=10, n_estimators=50; total time=   0.1s\n",
            "[CV] END max_depth=None, min_samples_leaf=4, min_samples_split=10, n_estimators=50; total time=   0.1s\n",
            "[CV] END max_depth=None, min_samples_leaf=4, min_samples_split=10, n_estimators=50; total time=   0.1s\n",
            "[CV] END max_depth=None, min_samples_leaf=4, min_samples_split=10, n_estimators=100; total time=   0.2s\n",
            "[CV] END max_depth=None, min_samples_leaf=4, min_samples_split=10, n_estimators=100; total time=   0.2s\n",
            "[CV] END max_depth=None, min_samples_leaf=4, min_samples_split=10, n_estimators=100; total time=   0.2s\n",
            "[CV] END max_depth=None, min_samples_leaf=4, min_samples_split=10, n_estimators=150; total time=   0.2s\n",
            "[CV] END max_depth=None, min_samples_leaf=4, min_samples_split=10, n_estimators=150; total time=   0.2s\n",
            "[CV] END max_depth=None, min_samples_leaf=4, min_samples_split=10, n_estimators=150; total time=   0.2s\n",
            "[CV] END max_depth=10, min_samples_leaf=1, min_samples_split=2, n_estimators=50; total time=   0.1s\n",
            "[CV] END max_depth=10, min_samples_leaf=1, min_samples_split=2, n_estimators=50; total time=   0.1s\n",
            "[CV] END max_depth=10, min_samples_leaf=1, min_samples_split=2, n_estimators=50; total time=   0.1s\n",
            "[CV] END max_depth=10, min_samples_leaf=1, min_samples_split=2, n_estimators=100; total time=   0.2s\n",
            "[CV] END max_depth=10, min_samples_leaf=1, min_samples_split=2, n_estimators=100; total time=   0.2s\n",
            "[CV] END max_depth=10, min_samples_leaf=1, min_samples_split=2, n_estimators=100; total time=   0.2s\n",
            "[CV] END max_depth=10, min_samples_leaf=1, min_samples_split=2, n_estimators=150; total time=   0.2s\n",
            "[CV] END max_depth=10, min_samples_leaf=1, min_samples_split=2, n_estimators=150; total time=   0.2s\n",
            "[CV] END max_depth=10, min_samples_leaf=1, min_samples_split=2, n_estimators=150; total time=   0.2s\n",
            "[CV] END max_depth=10, min_samples_leaf=1, min_samples_split=5, n_estimators=50; total time=   0.1s\n",
            "[CV] END max_depth=10, min_samples_leaf=1, min_samples_split=5, n_estimators=50; total time=   0.1s\n",
            "[CV] END max_depth=10, min_samples_leaf=1, min_samples_split=5, n_estimators=50; total time=   0.1s\n",
            "[CV] END max_depth=10, min_samples_leaf=1, min_samples_split=5, n_estimators=100; total time=   0.3s\n",
            "[CV] END max_depth=10, min_samples_leaf=1, min_samples_split=5, n_estimators=100; total time=   0.3s\n",
            "[CV] END max_depth=10, min_samples_leaf=1, min_samples_split=5, n_estimators=100; total time=   0.3s\n",
            "[CV] END max_depth=10, min_samples_leaf=1, min_samples_split=5, n_estimators=150; total time=   0.4s\n",
            "[CV] END max_depth=10, min_samples_leaf=1, min_samples_split=5, n_estimators=150; total time=   0.4s\n",
            "[CV] END max_depth=10, min_samples_leaf=1, min_samples_split=5, n_estimators=150; total time=   0.4s\n",
            "[CV] END max_depth=10, min_samples_leaf=1, min_samples_split=10, n_estimators=50; total time=   0.1s\n",
            "[CV] END max_depth=10, min_samples_leaf=1, min_samples_split=10, n_estimators=50; total time=   0.1s\n",
            "[CV] END max_depth=10, min_samples_leaf=1, min_samples_split=10, n_estimators=50; total time=   0.1s\n",
            "[CV] END max_depth=10, min_samples_leaf=1, min_samples_split=10, n_estimators=100; total time=   0.3s\n",
            "[CV] END max_depth=10, min_samples_leaf=1, min_samples_split=10, n_estimators=100; total time=   0.3s\n",
            "[CV] END max_depth=10, min_samples_leaf=1, min_samples_split=10, n_estimators=100; total time=   0.2s\n",
            "[CV] END max_depth=10, min_samples_leaf=1, min_samples_split=10, n_estimators=150; total time=   0.2s\n",
            "[CV] END max_depth=10, min_samples_leaf=1, min_samples_split=10, n_estimators=150; total time=   0.2s\n",
            "[CV] END max_depth=10, min_samples_leaf=1, min_samples_split=10, n_estimators=150; total time=   0.2s\n",
            "[CV] END max_depth=10, min_samples_leaf=2, min_samples_split=2, n_estimators=50; total time=   0.1s\n",
            "[CV] END max_depth=10, min_samples_leaf=2, min_samples_split=2, n_estimators=50; total time=   0.1s\n",
            "[CV] END max_depth=10, min_samples_leaf=2, min_samples_split=2, n_estimators=50; total time=   0.1s\n",
            "[CV] END max_depth=10, min_samples_leaf=2, min_samples_split=2, n_estimators=100; total time=   0.2s\n",
            "[CV] END max_depth=10, min_samples_leaf=2, min_samples_split=2, n_estimators=100; total time=   0.2s\n",
            "[CV] END max_depth=10, min_samples_leaf=2, min_samples_split=2, n_estimators=100; total time=   0.2s\n",
            "[CV] END max_depth=10, min_samples_leaf=2, min_samples_split=2, n_estimators=150; total time=   0.2s\n",
            "[CV] END max_depth=10, min_samples_leaf=2, min_samples_split=2, n_estimators=150; total time=   0.2s\n",
            "[CV] END max_depth=10, min_samples_leaf=2, min_samples_split=2, n_estimators=150; total time=   0.2s\n",
            "[CV] END max_depth=10, min_samples_leaf=2, min_samples_split=5, n_estimators=50; total time=   0.1s\n",
            "[CV] END max_depth=10, min_samples_leaf=2, min_samples_split=5, n_estimators=50; total time=   0.1s\n",
            "[CV] END max_depth=10, min_samples_leaf=2, min_samples_split=5, n_estimators=50; total time=   0.1s\n",
            "[CV] END max_depth=10, min_samples_leaf=2, min_samples_split=5, n_estimators=100; total time=   0.2s\n",
            "[CV] END max_depth=10, min_samples_leaf=2, min_samples_split=5, n_estimators=100; total time=   0.2s\n",
            "[CV] END max_depth=10, min_samples_leaf=2, min_samples_split=5, n_estimators=100; total time=   0.2s\n",
            "[CV] END max_depth=10, min_samples_leaf=2, min_samples_split=5, n_estimators=150; total time=   0.3s\n",
            "[CV] END max_depth=10, min_samples_leaf=2, min_samples_split=5, n_estimators=150; total time=   0.2s\n",
            "[CV] END max_depth=10, min_samples_leaf=2, min_samples_split=5, n_estimators=150; total time=   0.3s\n",
            "[CV] END max_depth=10, min_samples_leaf=2, min_samples_split=10, n_estimators=50; total time=   0.2s\n",
            "[CV] END max_depth=10, min_samples_leaf=2, min_samples_split=10, n_estimators=50; total time=   0.2s\n",
            "[CV] END max_depth=10, min_samples_leaf=2, min_samples_split=10, n_estimators=50; total time=   0.1s\n",
            "[CV] END max_depth=10, min_samples_leaf=2, min_samples_split=10, n_estimators=100; total time=   0.3s\n",
            "[CV] END max_depth=10, min_samples_leaf=2, min_samples_split=10, n_estimators=100; total time=   0.2s\n",
            "[CV] END max_depth=10, min_samples_leaf=2, min_samples_split=10, n_estimators=100; total time=   0.2s\n",
            "[CV] END max_depth=10, min_samples_leaf=2, min_samples_split=10, n_estimators=150; total time=   0.2s\n",
            "[CV] END max_depth=10, min_samples_leaf=2, min_samples_split=10, n_estimators=150; total time=   0.2s\n",
            "[CV] END max_depth=10, min_samples_leaf=2, min_samples_split=10, n_estimators=150; total time=   0.2s\n",
            "[CV] END max_depth=10, min_samples_leaf=4, min_samples_split=2, n_estimators=50; total time=   0.1s\n",
            "[CV] END max_depth=10, min_samples_leaf=4, min_samples_split=2, n_estimators=50; total time=   0.1s\n",
            "[CV] END max_depth=10, min_samples_leaf=4, min_samples_split=2, n_estimators=50; total time=   0.1s\n",
            "[CV] END max_depth=10, min_samples_leaf=4, min_samples_split=2, n_estimators=100; total time=   0.2s\n",
            "[CV] END max_depth=10, min_samples_leaf=4, min_samples_split=2, n_estimators=100; total time=   0.2s\n",
            "[CV] END max_depth=10, min_samples_leaf=4, min_samples_split=2, n_estimators=100; total time=   0.2s\n",
            "[CV] END max_depth=10, min_samples_leaf=4, min_samples_split=2, n_estimators=150; total time=   0.3s\n",
            "[CV] END max_depth=10, min_samples_leaf=4, min_samples_split=2, n_estimators=150; total time=   0.2s\n",
            "[CV] END max_depth=10, min_samples_leaf=4, min_samples_split=2, n_estimators=150; total time=   0.2s\n",
            "[CV] END max_depth=10, min_samples_leaf=4, min_samples_split=5, n_estimators=50; total time=   0.1s\n",
            "[CV] END max_depth=10, min_samples_leaf=4, min_samples_split=5, n_estimators=50; total time=   0.1s\n",
            "[CV] END max_depth=10, min_samples_leaf=4, min_samples_split=5, n_estimators=50; total time=   0.1s\n",
            "[CV] END max_depth=10, min_samples_leaf=4, min_samples_split=5, n_estimators=100; total time=   0.2s\n",
            "[CV] END max_depth=10, min_samples_leaf=4, min_samples_split=5, n_estimators=100; total time=   0.2s\n",
            "[CV] END max_depth=10, min_samples_leaf=4, min_samples_split=5, n_estimators=100; total time=   0.2s\n",
            "[CV] END max_depth=10, min_samples_leaf=4, min_samples_split=5, n_estimators=150; total time=   0.2s\n",
            "[CV] END max_depth=10, min_samples_leaf=4, min_samples_split=5, n_estimators=150; total time=   0.2s\n",
            "[CV] END max_depth=10, min_samples_leaf=4, min_samples_split=5, n_estimators=150; total time=   0.2s\n",
            "[CV] END max_depth=10, min_samples_leaf=4, min_samples_split=10, n_estimators=50; total time=   0.1s\n",
            "[CV] END max_depth=10, min_samples_leaf=4, min_samples_split=10, n_estimators=50; total time=   0.1s\n",
            "[CV] END max_depth=10, min_samples_leaf=4, min_samples_split=10, n_estimators=50; total time=   0.1s\n",
            "[CV] END max_depth=10, min_samples_leaf=4, min_samples_split=10, n_estimators=100; total time=   0.2s\n",
            "[CV] END max_depth=10, min_samples_leaf=4, min_samples_split=10, n_estimators=100; total time=   0.2s\n",
            "[CV] END max_depth=10, min_samples_leaf=4, min_samples_split=10, n_estimators=100; total time=   0.2s\n",
            "[CV] END max_depth=10, min_samples_leaf=4, min_samples_split=10, n_estimators=150; total time=   0.2s\n",
            "[CV] END max_depth=10, min_samples_leaf=4, min_samples_split=10, n_estimators=150; total time=   0.2s\n",
            "[CV] END max_depth=10, min_samples_leaf=4, min_samples_split=10, n_estimators=150; total time=   0.2s\n",
            "[CV] END max_depth=20, min_samples_leaf=1, min_samples_split=2, n_estimators=50; total time=   0.1s\n",
            "[CV] END max_depth=20, min_samples_leaf=1, min_samples_split=2, n_estimators=50; total time=   0.1s\n",
            "[CV] END max_depth=20, min_samples_leaf=1, min_samples_split=2, n_estimators=50; total time=   0.2s\n",
            "[CV] END max_depth=20, min_samples_leaf=1, min_samples_split=2, n_estimators=100; total time=   0.3s\n",
            "[CV] END max_depth=20, min_samples_leaf=1, min_samples_split=2, n_estimators=100; total time=   0.3s\n",
            "[CV] END max_depth=20, min_samples_leaf=1, min_samples_split=2, n_estimators=100; total time=   0.3s\n",
            "[CV] END max_depth=20, min_samples_leaf=1, min_samples_split=2, n_estimators=150; total time=   0.4s\n",
            "[CV] END max_depth=20, min_samples_leaf=1, min_samples_split=2, n_estimators=150; total time=   0.4s\n",
            "[CV] END max_depth=20, min_samples_leaf=1, min_samples_split=2, n_estimators=150; total time=   0.4s\n",
            "[CV] END max_depth=20, min_samples_leaf=1, min_samples_split=5, n_estimators=50; total time=   0.1s\n",
            "[CV] END max_depth=20, min_samples_leaf=1, min_samples_split=5, n_estimators=50; total time=   0.2s\n",
            "[CV] END max_depth=20, min_samples_leaf=1, min_samples_split=5, n_estimators=50; total time=   0.1s\n",
            "[CV] END max_depth=20, min_samples_leaf=1, min_samples_split=5, n_estimators=100; total time=   0.3s\n",
            "[CV] END max_depth=20, min_samples_leaf=1, min_samples_split=5, n_estimators=100; total time=   0.2s\n",
            "[CV] END max_depth=20, min_samples_leaf=1, min_samples_split=5, n_estimators=100; total time=   0.2s\n",
            "[CV] END max_depth=20, min_samples_leaf=1, min_samples_split=5, n_estimators=150; total time=   0.2s\n",
            "[CV] END max_depth=20, min_samples_leaf=1, min_samples_split=5, n_estimators=150; total time=   0.2s\n",
            "[CV] END max_depth=20, min_samples_leaf=1, min_samples_split=5, n_estimators=150; total time=   0.2s\n",
            "[CV] END max_depth=20, min_samples_leaf=1, min_samples_split=10, n_estimators=50; total time=   0.1s\n",
            "[CV] END max_depth=20, min_samples_leaf=1, min_samples_split=10, n_estimators=50; total time=   0.1s\n",
            "[CV] END max_depth=20, min_samples_leaf=1, min_samples_split=10, n_estimators=50; total time=   0.1s\n",
            "[CV] END max_depth=20, min_samples_leaf=1, min_samples_split=10, n_estimators=100; total time=   0.2s\n",
            "[CV] END max_depth=20, min_samples_leaf=1, min_samples_split=10, n_estimators=100; total time=   0.2s\n",
            "[CV] END max_depth=20, min_samples_leaf=1, min_samples_split=10, n_estimators=100; total time=   0.2s\n",
            "[CV] END max_depth=20, min_samples_leaf=1, min_samples_split=10, n_estimators=150; total time=   0.3s\n",
            "[CV] END max_depth=20, min_samples_leaf=1, min_samples_split=10, n_estimators=150; total time=   0.4s\n",
            "[CV] END max_depth=20, min_samples_leaf=1, min_samples_split=10, n_estimators=150; total time=   0.4s\n",
            "[CV] END max_depth=20, min_samples_leaf=2, min_samples_split=2, n_estimators=50; total time=   0.1s\n",
            "[CV] END max_depth=20, min_samples_leaf=2, min_samples_split=2, n_estimators=50; total time=   0.1s\n",
            "[CV] END max_depth=20, min_samples_leaf=2, min_samples_split=2, n_estimators=50; total time=   0.1s\n",
            "[CV] END max_depth=20, min_samples_leaf=2, min_samples_split=2, n_estimators=100; total time=   0.2s\n",
            "[CV] END max_depth=20, min_samples_leaf=2, min_samples_split=2, n_estimators=100; total time=   0.2s\n",
            "[CV] END max_depth=20, min_samples_leaf=2, min_samples_split=2, n_estimators=100; total time=   0.2s\n",
            "[CV] END max_depth=20, min_samples_leaf=2, min_samples_split=2, n_estimators=150; total time=   0.3s\n",
            "[CV] END max_depth=20, min_samples_leaf=2, min_samples_split=2, n_estimators=150; total time=   0.2s\n",
            "[CV] END max_depth=20, min_samples_leaf=2, min_samples_split=2, n_estimators=150; total time=   0.2s\n",
            "[CV] END max_depth=20, min_samples_leaf=2, min_samples_split=5, n_estimators=50; total time=   0.1s\n",
            "[CV] END max_depth=20, min_samples_leaf=2, min_samples_split=5, n_estimators=50; total time=   0.1s\n",
            "[CV] END max_depth=20, min_samples_leaf=2, min_samples_split=5, n_estimators=50; total time=   0.1s\n",
            "[CV] END max_depth=20, min_samples_leaf=2, min_samples_split=5, n_estimators=100; total time=   0.2s\n",
            "[CV] END max_depth=20, min_samples_leaf=2, min_samples_split=5, n_estimators=100; total time=   0.2s\n",
            "[CV] END max_depth=20, min_samples_leaf=2, min_samples_split=5, n_estimators=100; total time=   0.2s\n",
            "[CV] END max_depth=20, min_samples_leaf=2, min_samples_split=5, n_estimators=150; total time=   0.3s\n",
            "[CV] END max_depth=20, min_samples_leaf=2, min_samples_split=5, n_estimators=150; total time=   0.2s\n",
            "[CV] END max_depth=20, min_samples_leaf=2, min_samples_split=5, n_estimators=150; total time=   0.2s\n",
            "[CV] END max_depth=20, min_samples_leaf=2, min_samples_split=10, n_estimators=50; total time=   0.1s\n",
            "[CV] END max_depth=20, min_samples_leaf=2, min_samples_split=10, n_estimators=50; total time=   0.1s\n",
            "[CV] END max_depth=20, min_samples_leaf=2, min_samples_split=10, n_estimators=50; total time=   0.1s\n",
            "[CV] END max_depth=20, min_samples_leaf=2, min_samples_split=10, n_estimators=100; total time=   0.2s\n",
            "[CV] END max_depth=20, min_samples_leaf=2, min_samples_split=10, n_estimators=100; total time=   0.2s\n",
            "[CV] END max_depth=20, min_samples_leaf=2, min_samples_split=10, n_estimators=100; total time=   0.2s\n",
            "[CV] END max_depth=20, min_samples_leaf=2, min_samples_split=10, n_estimators=150; total time=   0.4s\n",
            "[CV] END max_depth=20, min_samples_leaf=2, min_samples_split=10, n_estimators=150; total time=   0.4s\n",
            "[CV] END max_depth=20, min_samples_leaf=2, min_samples_split=10, n_estimators=150; total time=   0.6s\n",
            "[CV] END max_depth=20, min_samples_leaf=4, min_samples_split=2, n_estimators=50; total time=   0.2s\n",
            "[CV] END max_depth=20, min_samples_leaf=4, min_samples_split=2, n_estimators=50; total time=   0.2s\n",
            "[CV] END max_depth=20, min_samples_leaf=4, min_samples_split=2, n_estimators=50; total time=   0.2s\n",
            "[CV] END max_depth=20, min_samples_leaf=4, min_samples_split=2, n_estimators=100; total time=   0.5s\n",
            "[CV] END max_depth=20, min_samples_leaf=4, min_samples_split=2, n_estimators=100; total time=   0.4s\n",
            "[CV] END max_depth=20, min_samples_leaf=4, min_samples_split=2, n_estimators=100; total time=   0.3s\n",
            "[CV] END max_depth=20, min_samples_leaf=4, min_samples_split=2, n_estimators=150; total time=   0.8s\n",
            "[CV] END max_depth=20, min_samples_leaf=4, min_samples_split=2, n_estimators=150; total time=   1.2s\n",
            "[CV] END max_depth=20, min_samples_leaf=4, min_samples_split=2, n_estimators=150; total time=   0.8s\n",
            "[CV] END max_depth=20, min_samples_leaf=4, min_samples_split=5, n_estimators=50; total time=   0.2s\n",
            "[CV] END max_depth=20, min_samples_leaf=4, min_samples_split=5, n_estimators=50; total time=   0.4s\n",
            "[CV] END max_depth=20, min_samples_leaf=4, min_samples_split=5, n_estimators=50; total time=   0.4s\n",
            "[CV] END max_depth=20, min_samples_leaf=4, min_samples_split=5, n_estimators=100; total time=   0.7s\n",
            "[CV] END max_depth=20, min_samples_leaf=4, min_samples_split=5, n_estimators=100; total time=   0.7s\n",
            "[CV] END max_depth=20, min_samples_leaf=4, min_samples_split=5, n_estimators=100; total time=   0.4s\n",
            "[CV] END max_depth=20, min_samples_leaf=4, min_samples_split=5, n_estimators=150; total time=   0.4s\n",
            "[CV] END max_depth=20, min_samples_leaf=4, min_samples_split=5, n_estimators=150; total time=   0.6s\n",
            "[CV] END max_depth=20, min_samples_leaf=4, min_samples_split=5, n_estimators=150; total time=   0.4s\n",
            "[CV] END max_depth=20, min_samples_leaf=4, min_samples_split=10, n_estimators=50; total time=   0.1s\n",
            "[CV] END max_depth=20, min_samples_leaf=4, min_samples_split=10, n_estimators=50; total time=   0.1s\n",
            "[CV] END max_depth=20, min_samples_leaf=4, min_samples_split=10, n_estimators=50; total time=   0.1s\n",
            "[CV] END max_depth=20, min_samples_leaf=4, min_samples_split=10, n_estimators=100; total time=   0.4s\n",
            "[CV] END max_depth=20, min_samples_leaf=4, min_samples_split=10, n_estimators=100; total time=   0.5s\n",
            "[CV] END max_depth=20, min_samples_leaf=4, min_samples_split=10, n_estimators=100; total time=   0.4s\n",
            "[CV] END max_depth=20, min_samples_leaf=4, min_samples_split=10, n_estimators=150; total time=   0.6s\n",
            "[CV] END max_depth=20, min_samples_leaf=4, min_samples_split=10, n_estimators=150; total time=   0.7s\n",
            "[CV] END max_depth=20, min_samples_leaf=4, min_samples_split=10, n_estimators=150; total time=   0.6s\n",
            "[CV] END max_depth=30, min_samples_leaf=1, min_samples_split=2, n_estimators=50; total time=   0.2s\n",
            "[CV] END max_depth=30, min_samples_leaf=1, min_samples_split=2, n_estimators=50; total time=   0.2s\n",
            "[CV] END max_depth=30, min_samples_leaf=1, min_samples_split=2, n_estimators=50; total time=   0.2s\n",
            "[CV] END max_depth=30, min_samples_leaf=1, min_samples_split=2, n_estimators=100; total time=   0.5s\n",
            "[CV] END max_depth=30, min_samples_leaf=1, min_samples_split=2, n_estimators=100; total time=   0.5s\n",
            "[CV] END max_depth=30, min_samples_leaf=1, min_samples_split=2, n_estimators=100; total time=   0.4s\n",
            "[CV] END max_depth=30, min_samples_leaf=1, min_samples_split=2, n_estimators=150; total time=   0.7s\n",
            "[CV] END max_depth=30, min_samples_leaf=1, min_samples_split=2, n_estimators=150; total time=   0.6s\n",
            "[CV] END max_depth=30, min_samples_leaf=1, min_samples_split=2, n_estimators=150; total time=   0.6s\n",
            "[CV] END max_depth=30, min_samples_leaf=1, min_samples_split=5, n_estimators=50; total time=   0.2s\n",
            "[CV] END max_depth=30, min_samples_leaf=1, min_samples_split=5, n_estimators=50; total time=   0.3s\n",
            "[CV] END max_depth=30, min_samples_leaf=1, min_samples_split=5, n_estimators=50; total time=   0.5s\n",
            "[CV] END max_depth=30, min_samples_leaf=1, min_samples_split=5, n_estimators=100; total time=   0.8s\n",
            "[CV] END max_depth=30, min_samples_leaf=1, min_samples_split=5, n_estimators=100; total time=   0.7s\n",
            "[CV] END max_depth=30, min_samples_leaf=1, min_samples_split=5, n_estimators=100; total time=   0.7s\n",
            "[CV] END max_depth=30, min_samples_leaf=1, min_samples_split=5, n_estimators=150; total time=   0.9s\n",
            "[CV] END max_depth=30, min_samples_leaf=1, min_samples_split=5, n_estimators=150; total time=   0.9s\n",
            "[CV] END max_depth=30, min_samples_leaf=1, min_samples_split=5, n_estimators=150; total time=   0.7s\n",
            "[CV] END max_depth=30, min_samples_leaf=1, min_samples_split=10, n_estimators=50; total time=   0.2s\n",
            "[CV] END max_depth=30, min_samples_leaf=1, min_samples_split=10, n_estimators=50; total time=   0.1s\n",
            "[CV] END max_depth=30, min_samples_leaf=1, min_samples_split=10, n_estimators=50; total time=   0.1s\n",
            "[CV] END max_depth=30, min_samples_leaf=1, min_samples_split=10, n_estimators=100; total time=   0.2s\n",
            "[CV] END max_depth=30, min_samples_leaf=1, min_samples_split=10, n_estimators=100; total time=   0.2s\n",
            "[CV] END max_depth=30, min_samples_leaf=1, min_samples_split=10, n_estimators=100; total time=   0.2s\n",
            "[CV] END max_depth=30, min_samples_leaf=1, min_samples_split=10, n_estimators=150; total time=   0.2s\n",
            "[CV] END max_depth=30, min_samples_leaf=1, min_samples_split=10, n_estimators=150; total time=   0.2s\n",
            "[CV] END max_depth=30, min_samples_leaf=1, min_samples_split=10, n_estimators=150; total time=   0.2s\n",
            "[CV] END max_depth=30, min_samples_leaf=2, min_samples_split=2, n_estimators=50; total time=   0.1s\n",
            "[CV] END max_depth=30, min_samples_leaf=2, min_samples_split=2, n_estimators=50; total time=   0.1s\n",
            "[CV] END max_depth=30, min_samples_leaf=2, min_samples_split=2, n_estimators=50; total time=   0.1s\n",
            "[CV] END max_depth=30, min_samples_leaf=2, min_samples_split=2, n_estimators=100; total time=   0.2s\n",
            "[CV] END max_depth=30, min_samples_leaf=2, min_samples_split=2, n_estimators=100; total time=   0.2s\n",
            "[CV] END max_depth=30, min_samples_leaf=2, min_samples_split=2, n_estimators=100; total time=   0.2s\n",
            "[CV] END max_depth=30, min_samples_leaf=2, min_samples_split=2, n_estimators=150; total time=   0.2s\n",
            "[CV] END max_depth=30, min_samples_leaf=2, min_samples_split=2, n_estimators=150; total time=   0.2s\n",
            "[CV] END max_depth=30, min_samples_leaf=2, min_samples_split=2, n_estimators=150; total time=   0.2s\n",
            "[CV] END max_depth=30, min_samples_leaf=2, min_samples_split=5, n_estimators=50; total time=   0.1s\n",
            "[CV] END max_depth=30, min_samples_leaf=2, min_samples_split=5, n_estimators=50; total time=   0.1s\n",
            "[CV] END max_depth=30, min_samples_leaf=2, min_samples_split=5, n_estimators=50; total time=   0.1s\n",
            "[CV] END max_depth=30, min_samples_leaf=2, min_samples_split=5, n_estimators=100; total time=   0.2s\n",
            "[CV] END max_depth=30, min_samples_leaf=2, min_samples_split=5, n_estimators=100; total time=   0.2s\n",
            "[CV] END max_depth=30, min_samples_leaf=2, min_samples_split=5, n_estimators=100; total time=   0.2s\n",
            "[CV] END max_depth=30, min_samples_leaf=2, min_samples_split=5, n_estimators=150; total time=   0.2s\n",
            "[CV] END max_depth=30, min_samples_leaf=2, min_samples_split=5, n_estimators=150; total time=   0.2s\n",
            "[CV] END max_depth=30, min_samples_leaf=2, min_samples_split=5, n_estimators=150; total time=   0.2s\n",
            "[CV] END max_depth=30, min_samples_leaf=2, min_samples_split=10, n_estimators=50; total time=   0.1s\n",
            "[CV] END max_depth=30, min_samples_leaf=2, min_samples_split=10, n_estimators=50; total time=   0.1s\n",
            "[CV] END max_depth=30, min_samples_leaf=2, min_samples_split=10, n_estimators=50; total time=   0.1s\n",
            "[CV] END max_depth=30, min_samples_leaf=2, min_samples_split=10, n_estimators=100; total time=   0.2s\n",
            "[CV] END max_depth=30, min_samples_leaf=2, min_samples_split=10, n_estimators=100; total time=   0.2s\n",
            "[CV] END max_depth=30, min_samples_leaf=2, min_samples_split=10, n_estimators=100; total time=   0.2s\n",
            "[CV] END max_depth=30, min_samples_leaf=2, min_samples_split=10, n_estimators=150; total time=   0.2s\n",
            "[CV] END max_depth=30, min_samples_leaf=2, min_samples_split=10, n_estimators=150; total time=   0.2s\n",
            "[CV] END max_depth=30, min_samples_leaf=2, min_samples_split=10, n_estimators=150; total time=   0.2s\n",
            "[CV] END max_depth=30, min_samples_leaf=4, min_samples_split=2, n_estimators=50; total time=   0.1s\n",
            "[CV] END max_depth=30, min_samples_leaf=4, min_samples_split=2, n_estimators=50; total time=   0.1s\n",
            "[CV] END max_depth=30, min_samples_leaf=4, min_samples_split=2, n_estimators=50; total time=   0.1s\n",
            "[CV] END max_depth=30, min_samples_leaf=4, min_samples_split=2, n_estimators=100; total time=   0.2s\n",
            "[CV] END max_depth=30, min_samples_leaf=4, min_samples_split=2, n_estimators=100; total time=   0.2s\n",
            "[CV] END max_depth=30, min_samples_leaf=4, min_samples_split=2, n_estimators=100; total time=   0.2s\n",
            "[CV] END max_depth=30, min_samples_leaf=4, min_samples_split=2, n_estimators=150; total time=   0.3s\n",
            "[CV] END max_depth=30, min_samples_leaf=4, min_samples_split=2, n_estimators=150; total time=   0.2s\n",
            "[CV] END max_depth=30, min_samples_leaf=4, min_samples_split=2, n_estimators=150; total time=   0.2s\n",
            "[CV] END max_depth=30, min_samples_leaf=4, min_samples_split=5, n_estimators=50; total time=   0.1s\n",
            "[CV] END max_depth=30, min_samples_leaf=4, min_samples_split=5, n_estimators=50; total time=   0.1s\n",
            "[CV] END max_depth=30, min_samples_leaf=4, min_samples_split=5, n_estimators=50; total time=   0.1s\n",
            "[CV] END max_depth=30, min_samples_leaf=4, min_samples_split=5, n_estimators=100; total time=   0.2s\n",
            "[CV] END max_depth=30, min_samples_leaf=4, min_samples_split=5, n_estimators=100; total time=   0.2s\n",
            "[CV] END max_depth=30, min_samples_leaf=4, min_samples_split=5, n_estimators=100; total time=   0.3s\n",
            "[CV] END max_depth=30, min_samples_leaf=4, min_samples_split=5, n_estimators=150; total time=   0.4s\n",
            "[CV] END max_depth=30, min_samples_leaf=4, min_samples_split=5, n_estimators=150; total time=   0.3s\n",
            "[CV] END max_depth=30, min_samples_leaf=4, min_samples_split=5, n_estimators=150; total time=   0.4s\n",
            "[CV] END max_depth=30, min_samples_leaf=4, min_samples_split=10, n_estimators=50; total time=   0.1s\n",
            "[CV] END max_depth=30, min_samples_leaf=4, min_samples_split=10, n_estimators=50; total time=   0.1s\n",
            "[CV] END max_depth=30, min_samples_leaf=4, min_samples_split=10, n_estimators=50; total time=   0.1s\n",
            "[CV] END max_depth=30, min_samples_leaf=4, min_samples_split=10, n_estimators=100; total time=   0.3s\n",
            "[CV] END max_depth=30, min_samples_leaf=4, min_samples_split=10, n_estimators=100; total time=   0.3s\n",
            "[CV] END max_depth=30, min_samples_leaf=4, min_samples_split=10, n_estimators=100; total time=   0.3s\n",
            "[CV] END max_depth=30, min_samples_leaf=4, min_samples_split=10, n_estimators=150; total time=   0.4s\n",
            "[CV] END max_depth=30, min_samples_leaf=4, min_samples_split=10, n_estimators=150; total time=   0.4s\n",
            "[CV] END max_depth=30, min_samples_leaf=4, min_samples_split=10, n_estimators=150; total time=   0.4s\n",
            "Testing Accuracy setelah tuning: 0.99\n",
            "Testing F1-Score setelah tuning: 0.99\n"
          ]
        }
      ]
    },
    {
      "cell_type": "markdown",
      "source": [
        "## **d. Evaluasi Model Klasifikasi setelah Tuning (Optional)**"
      ],
      "metadata": {
        "id": "hE7pqlEPEYzI"
      }
    },
    {
      "cell_type": "markdown",
      "source": [
        "Berikut adalah rekomendasi tahapannya.\n",
        "1. Gunakan model dengan hyperparameter terbaik.\n",
        "2. Hitung ulang metrik evaluasi untuk melihat apakah ada peningkatan performa."
      ],
      "metadata": {
        "id": "feaPESoeN0zz"
      }
    },
    {
      "cell_type": "code",
      "source": [
        "#Type your code here\n",
        "# Bandingkan hasil sebelum dan sesudah tuning\n",
        "print(f\"Accuracy sebelum tuning: {acc_test:.2f}, setelah tuning: {acc_best:.2f}\")\n",
        "print(f\"F1-Score sebelum tuning: {f1_test:.2f}, setelah tuning: {f1_best:.2f}\")"
      ],
      "metadata": {
        "id": "HTXZRvEeNMb1",
        "colab": {
          "base_uri": "https://localhost:8080/"
        },
        "outputId": "1df53524-b982-45d3-ed88-ddd93915e181"
      },
      "execution_count": 17,
      "outputs": [
        {
          "output_type": "stream",
          "name": "stdout",
          "text": [
            "Accuracy sebelum tuning: 1.00, setelah tuning: 0.99\n",
            "F1-Score sebelum tuning: 1.00, setelah tuning: 0.99\n"
          ]
        }
      ]
    },
    {
      "cell_type": "markdown",
      "source": [
        "## **e. Analisis Hasil Evaluasi Model Klasifikasi**"
      ],
      "metadata": {
        "id": "ZRsOdm4uEgAW"
      }
    },
    {
      "cell_type": "markdown",
      "source": [
        "Berikut adalah **rekomendasi** tahapannya.\n",
        "1. Bandingkan hasil evaluasi sebelum dan setelah tuning (jika dilakukan).\n",
        "2. Identifikasi kelemahan model, seperti:\n",
        "  - Precision atau Recall rendah untuk kelas tertentu.\n",
        "  - Apakah model mengalami overfitting atau underfitting?\n",
        "3. Berikan rekomendasi tindakan lanjutan, seperti mengumpulkan data tambahan atau mencoba algoritma lain jika hasil belum memuaskan."
      ],
      "metadata": {
        "id": "Hm3BhSi6N4_l"
      }
    },
    {
      "cell_type": "markdown",
      "source": [
        "Sebelum tuning, F1-Score model adalah 1.00, yang menunjukkan keseimbangan sempurna antara presisi dan recall. Ini berarti bahwa model memiliki kemampuan sangat baik dalam mengidentifikasi kelas positif (jika model berbicara tentang klasifikasi dua kelas) dengan sangat sedikit kesalahan baik dari sisi false positives maupun false negatives.\n",
        "Setelah tuning, F1-Score menurun sedikit menjadi 0.99. Meskipun ini masih menunjukkan performa yang sangat baik, penurunan ini mengindikasikan bahwa tuning model sedikit mempengaruhi keseimbangan antara presisi dan recall. Penurunan ini bisa terjadi karena perbaikan tuning yang fokus pada peningkatan accuracy namun sedikit mengurangi kinerja dalam menjaga keseimbangan antara presisi dan recall.\n",
        "\n",
        "**Kesimpulan**:\n",
        "\n",
        "Sebelum tuning, model memiliki kinerja yang sangat sempurna dengan accuracy dan F1-score 1.00, namun mungkin model tersebut tidak cukup baik dalam mengatasi variasi data atau overfitting pada data training.\n",
        "Setelah tuning, meskipun ada sedikit penurunan dalam accuracy dan F1-score, penurunan ini sangat kecil dan menunjukkan bahwa tuning mungkin berhasil membuat model lebih generalizable atau lebih mampu menangani data yang tidak terlihat dengan lebih baik."
      ],
      "metadata": {
        "id": "vnDgGZCjNarZ"
      }
    }
  ]
}